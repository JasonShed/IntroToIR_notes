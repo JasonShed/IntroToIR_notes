{
 "cells": [
  {
   "cell_type": "markdown",
   "metadata": {},
   "source": [
    "# 第6章 文档评分、词项权重计算及向量空间模型"
   ]
  },
  {
   "cell_type": "markdown",
   "metadata": {},
   "source": [
    "## 向量空间模型（VSM）\n",
    "英文全称是vector space model，是一系列文档在同一向量空间中的表示。文档d对应的向量用$ \\vec{V}(d) $，向量中的每个分量对应一个词项。这样，文档集合可以看成是向量空间中的多个向量，每个词项对应一个坐标轴。**但是这种词袋模型忽略了词项在文档中的相对次序**\n"
   ]
  },
  {
   "cell_type": "markdown",
   "metadata": {},
   "source": [
    "例如，假设文档集合中有两篇文档的内容如下：\n",
    "- 文档1：The Carolina Hurricanes won the Stanley Cup\n",
    "- 文档2：The Minnesota Twins won the World Series\n",
    "\n",
    "将两篇文档映射到一个10维的向量空间，给每个词赋予一个向量下标，词在文档中出现就为当前维保存一个1的值。\n",
    "\n",
    "index | 1 | 2 | 3 | 4 | 1 | 5 | 6 \n",
    "--- | ---\n",
    "Doc1 | The | Carolina | Hurricanes | won | the | Stanley | Cup\n",
    "\n",
    "\n",
    "index | 1 | 7 | 8 | 4 | 1 | 9 | 10 \n",
    "--- | ---\n",
    "Doc1 | The | Minnesota | Twins | won | the | World | Series\n",
    "\n",
    "向量中的1表示当前索引词出现在该文档中，0表示没有出现\n",
    "\n",
    "Doc1 Vector：< 1, 1, 1, 1, 1, 1, 0, 0, 0, 0>\n",
    "\n",
    "Doc2 Vector：< 1, 0, 0, 1, 0, 0, 1, 1, 1, 1>\n"
   ]
  },
  {
   "cell_type": "code",
   "execution_count": null,
   "metadata": {
    "collapsed": true
   },
   "outputs": [],
   "source": []
  }
 ],
 "metadata": {
  "kernelspec": {
   "display_name": "Python 2",
   "language": "python",
   "name": "python2"
  },
  "language_info": {
   "codemirror_mode": {
    "name": "ipython",
    "version": 2
   },
   "file_extension": ".py",
   "mimetype": "text/x-python",
   "name": "python",
   "nbconvert_exporter": "python",
   "pygments_lexer": "ipython2",
   "version": "2.7.13"
  }
 },
 "nbformat": 4,
 "nbformat_minor": 2
}
